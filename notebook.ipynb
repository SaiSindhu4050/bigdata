{
 "cells": [
  {
   "cell_type": "markdown",
   "metadata": {},
   "source": [
    "# Sales Data Analysis with Cassandra\n",
    "\n",
    "This notebook demonstrates loading sales data into Cassandra using a medallion\n",
    "architecture approach (bronze, silver, and gold layers).\n"
   ]
  },
  {
   "cell_type": "markdown",
   "metadata": {},
   "source": [
    "## Setup and Data Loading\n",
    "\n",
    "First, let's import required libraries and load our sales data\n"
   ]
  },
  {
   "cell_type": "code",
   "execution_count": 1,
   "metadata": {},
   "outputs": [],
   "source": [
    "from cassandra.cluster import Cluster\n",
    "import pandas as pd\n",
    "\n",
    "file_path = \"data/sales_100.csv\"\n",
    "sales_data = pd.read_csv(file_path)\n"
   ]
  },
  {
   "cell_type": "markdown",
   "metadata": {},
   "source": [
    "## Connect to Cassandra and Create Keyspace\n"
   ]
  },
  {
   "cell_type": "code",
   "execution_count": 2,
   "metadata": {},
   "outputs": [],
   "source": [
    "cluster = Cluster([\"127.0.0.1\"], port=9042, protocol_version=4, connect_timeout=60)\n",
    "session = cluster.connect()\n",
    "\n",
    "session.execute(\"\"\"\n",
    "CREATE KEYSPACE IF NOT EXISTS sales_data\n",
    "WITH replication = {'class': 'SimpleStrategy', 'replication_factor': '1'}\n",
    "\"\"\")\n",
    "session.set_keyspace(\"sales_data\")\n"
   ]
  },
  {
   "cell_type": "markdown",
   "metadata": {},
   "source": [
    "## Bronze Layer\n",
    "\n",
    "Create and populate the bronze layer table with raw data\n"
   ]
  },
  {
   "cell_type": "code",
   "execution_count": 3,
   "metadata": {},
   "outputs": [],
   "source": [
    "session.execute(\"\"\"\n",
    "CREATE TABLE IF NOT EXISTS bronze_sales (\n",
    "    region text,\n",
    "    country text,\n",
    "    item_type text,\n",
    "    sales_channel text,\n",
    "    order_priority text,\n",
    "    order_date text,\n",
    "    order_id bigint PRIMARY KEY,  -- Changed to bigint to match integer format\n",
    "    ship_date text,\n",
    "    units_sold int,\n",
    "    unit_price float,\n",
    "    unit_cost float,\n",
    "    total_revenue float,\n",
    "    total_cost float,\n",
    "    total_profit float\n",
    ")\n",
    "\"\"\")\n",
    "\n",
    "for _, row in sales_data.iterrows():\n",
    "    session.execute(\n",
    "        \"\"\"\n",
    "    INSERT INTO bronze_sales (\n",
    "        region, country, item_type, sales_channel, order_priority, \n",
    "        order_date, order_id, ship_date, units_sold, unit_price, \n",
    "        unit_cost, total_revenue, total_cost, total_profit\n",
    "    ) VALUES (%s, %s, %s, %s, %s, %s, %s, %s, %s, %s, %s, %s, %s, %s)\n",
    "    \"\"\",\n",
    "        (\n",
    "            row[\"Region\"],\n",
    "            row[\"Country\"],\n",
    "            row[\"Item Type\"],\n",
    "            row[\"Sales Channel\"],\n",
    "            row[\"Order Priority\"],\n",
    "            row[\"Order Date\"],\n",
    "            row[\"Order ID\"],\n",
    "            row[\"Ship Date\"],\n",
    "            row[\"UnitsSold\"],\n",
    "            row[\"UnitPrice\"],\n",
    "            row[\"UnitCost\"],\n",
    "            row[\"TotalRevenue\"],\n",
    "            row[\"TotalCost\"],\n",
    "            row[\"TotalProfit\"],\n",
    "        ),\n",
    "    )\n"
   ]
  },
  {
   "cell_type": "markdown",
   "metadata": {},
   "source": [
    "## Silver Layer\n",
    "\n",
    "Create and populate the silver layer with aggregated data by country and item\n",
    "type\n"
   ]
  },
  {
   "cell_type": "code",
   "execution_count": 4,
   "metadata": {},
   "outputs": [],
   "source": [
    "session.execute(\"\"\"\n",
    "CREATE TABLE IF NOT EXISTS silver_sales (\n",
    "    country text,\n",
    "    item_type text,\n",
    "    sales_channel text,\n",
    "    total_revenue float,\n",
    "    total_profit float,\n",
    "    PRIMARY KEY (country, item_type)\n",
    ")\n",
    "\"\"\")\n",
    "\n",
    "silver_data = (\n",
    "    sales_data.groupby([\"Country\", \"Item Type\", \"Sales Channel\"])\n",
    "    .agg({\"TotalRevenue\": \"sum\", \"TotalProfit\": \"sum\"})\n",
    "    .reset_index()\n",
    ")\n",
    "\n",
    "for _, row in silver_data.iterrows():\n",
    "    session.execute(\n",
    "        \"\"\"\n",
    "    INSERT INTO silver_sales (country, item_type, sales_channel, total_revenue, total_profit)\n",
    "    VALUES (%s, %s, %s, %s, %s)\n",
    "    \"\"\",\n",
    "        (\n",
    "            row[\"Country\"],\n",
    "            row[\"Item Type\"],\n",
    "            row[\"Sales Channel\"],\n",
    "            row[\"TotalRevenue\"],\n",
    "            row[\"TotalProfit\"],\n",
    "        ),\n",
    "    )\n"
   ]
  },
  {
   "cell_type": "markdown",
   "metadata": {},
   "source": [
    "## Gold Layer\n",
    "\n",
    "Create and populate gold layer tables with specific business metrics\n"
   ]
  },
  {
   "cell_type": "code",
   "execution_count": 5,
   "metadata": {},
   "outputs": [],
   "source": [
    "session.execute(\"\"\"\n",
    "CREATE TABLE IF NOT EXISTS gold_revenue_by_region (\n",
    "    region text PRIMARY KEY,\n",
    "    total_revenue float\n",
    ")\n",
    "\"\"\")\n",
    "gold_data1 = sales_data.groupby(\"Region\")[\"TotalRevenue\"].sum().reset_index()\n",
    "for _, row in gold_data1.iterrows():\n",
    "    session.execute(\n",
    "        \"\"\"\n",
    "    INSERT INTO gold_revenue_by_region (region, total_revenue)\n",
    "    VALUES (%s, %s)\n",
    "    \"\"\",\n",
    "        (row[\"Region\"], row[\"TotalRevenue\"]),\n",
    "    )\n",
    "\n",
    "# Top Selling Items\n",
    "session.execute(\"\"\"\n",
    "CREATE TABLE IF NOT EXISTS gold_top_selling_items (\n",
    "    item_type text PRIMARY KEY,\n",
    "    total_units_sold int\n",
    ")\n",
    "\"\"\")\n",
    "gold_data2 = sales_data.groupby(\"Item Type\")[\"UnitsSold\"].sum().reset_index()\n",
    "for _, row in gold_data2.iterrows():\n",
    "    session.execute(\n",
    "        \"\"\"\n",
    "    INSERT INTO gold_top_selling_items (item_type, total_units_sold)\n",
    "    VALUES (%s, %s)\n",
    "    \"\"\",\n",
    "        (row[\"Item Type\"], row[\"UnitsSold\"]),\n",
    "    )\n",
    "\n",
    "\n",
    "session.execute(\"\"\"\n",
    "CREATE TABLE IF NOT EXISTS gold_high_priority_orders (\n",
    "    order_id bigint PRIMARY KEY,\n",
    "    order_priority text,\n",
    "    total_profit float\n",
    ")\n",
    "\"\"\")\n",
    "high_priority_orders = sales_data[sales_data[\"Order Priority\"] == \"H\"]\n",
    "for _, row in high_priority_orders.iterrows():\n",
    "    session.execute(\n",
    "        \"\"\"\n",
    "    INSERT INTO gold_high_priority_orders (order_id, order_priority, total_profit)\n",
    "    VALUES (%s, %s, %s)\n",
    "    \"\"\",\n",
    "        (row[\"Order ID\"], row[\"Order Priority\"], row[\"TotalProfit\"]),\n",
    "    )\n"
   ]
  },
  {
   "cell_type": "markdown",
   "metadata": {},
   "source": [
    "## View Results\n",
    "\n",
    "Display sample data from each layer\n"
   ]
  },
  {
   "cell_type": "code",
   "execution_count": 6,
   "metadata": {},
   "outputs": [
    {
     "name": "stdout",
     "output_type": "stream",
     "text": [
      "\n",
      "Silver Table\n",
      "Row(country='Malaysia', item_type='Beverages', sales_channel='Online', total_profit=143351.640625, total_revenue=434357.3125)\n",
      "Row(country='Israel', item_type='Beverages', sales_channel='Offline', total_profit=73742.9375, total_revenue=223442.046875)\n",
      "Row(country='Serbia', item_type='Clothes', sales_channel='Offline', total_profit=539637.125, total_revenue=802989.4375)\n",
      "Row(country='Djibouti', item_type='Clothes', sales_channel='Offline', total_profit=41273.28125, total_revenue=61415.359375)\n",
      "Row(country='Egypt', item_type='Clothes', sales_channel='Online', total_profit=87540.4765625, total_revenue=130261.7578125)\n",
      "Row(country='Nicaragua', item_type='Baby Food', sales_channel='Online', total_profit=277131.25, total_revenue=738014.5)\n",
      "Row(country='Nicaragua', item_type='Household', sales_channel='Online', total_profit=1291202.375, total_revenue=5206491.5)\n",
      "Row(country='Romania', item_type='Beverages', sales_channel='Online', total_profit=71738.4609375, total_revenue=217368.453125)\n",
      "Row(country='Romania', item_type='Cereal', sales_channel='Online', total_profit=649984.8125, total_revenue=1509220.875)\n",
      "Row(country='Sao Tome and Principe', item_type='Clothes', sales_channel='Offline', total_profit=202694.40625, total_revenue=301612.8125)\n",
      "Row(country='Liberia', item_type='Baby Food', sales_channel='Offline', total_profit=126918.640625, total_revenue=337990.71875)\n",
      "Row(country='Vanuatu', item_type='Cereal', sales_channel='Offline', total_profit=503279.78125, total_revenue=1168581.75)\n",
      "Row(country='Vanuatu', item_type='Fruits', sales_channel='Online', total_profit=13821.349609375, total_revenue=53507.55078125)\n",
      "Row(country='Morocco', item_type='Clothes', sales_channel='Online', total_profit=338631.84375, total_revenue=503890.09375)\n",
      "Row(country='Lebanon', item_type='Meat', sales_channel='Online', total_profit=501644.0, total_revenue=3699975.25)\n",
      "Row(country='Madagascar', item_type='Clothes', sales_channel='Online', total_profit=228398.40625, total_revenue=339860.8125)\n",
      "Row(country='Mali', item_type='Household', sales_channel='Offline', total_profit=715456.4375, total_revenue=2884921.5)\n",
      "Row(country='Togo', item_type='Cosmetics', sales_channel='Online', total_profit=835619.25, total_revenue=2101183.25)\n",
      "Row(country='Sri Lanka', item_type='Fruits', sales_channel='Online', total_profit=3323.389892578125, total_revenue=12866.0703125)\n",
      "Row(country='Canada', item_type='Cosmetics', sales_channel='Online', total_profit=1297765.625, total_revenue=3263260.75)\n",
      "Row(country='Vietnam', item_type='Personal Care', sales_channel='Online', total_profit=200079.046875, total_revenue=652532.3125)\n",
      "Row(country='Mauritius ', item_type='Clothes', sales_channel='Offline', total_profit=405388.8125, total_revenue=603225.625)\n",
      "Row(country='Tanzania', item_type='Beverages', sales_channel='Online', total_profit=23114.16015625, total_revenue=70036.203125)\n",
      "Row(country='Tanzania', item_type='Cosmetics', sales_channel='Offline', total_profit=1350622.125, total_revenue=3396169.5)\n",
      "Row(country='Tanzania', item_type='Fruits', sales_channel='Offline', total_profit=23133.58984375, total_revenue=89558.671875)\n",
      "Row(country='Tunisia ', item_type='Cosmetics', sales_channel='Offline', total_profit=425981.5, total_revenue=1071140.0)\n",
      "Row(country='Brunei', item_type='Cereal', sales_channel='Offline', total_profit=374026.96875, total_revenue=868465.375)\n",
      "Row(country='Seychelles ', item_type='Beverages', sales_channel='Online', total_profit=9349.01953125, total_revenue=28327.650390625)\n",
      "Row(country='Ghana', item_type='Clothes', sales_channel='Online', total_profit=281715.84375, total_revenue=419198.09375)\n",
      "Row(country='Ghana', item_type='Fruits', sales_channel='Offline', total_profit=3188.429931640625, total_revenue=12343.58984375)\n",
      "Row(country='Ghana', item_type='Office Supplies', sales_channel='Online', total_profit=113120.0, total_revenue=583484.1875)\n",
      "Row(country='Turkmenistan', item_type='Meat', sales_channel='Online', total_profit=297783.1875, total_revenue=2196359.25)\n",
      "Row(country='Turkmenistan', item_type='Vegetables', sales_channel='Online', total_profit=421077.09375, total_revenue=1027580.1875)\n",
      "Row(country='Belgium', item_type='Personal Care', sales_channel='Online', total_profit=70844.6171875, total_revenue=231050.703125)\n",
      "Row(country='Iceland', item_type='Baby Food', sales_channel='Offline', total_profit=236007.3125, total_revenue=628499.375)\n",
      "Row(country='Sweden', item_type='Beverages', sales_channel='Online', total_profit=38915.1015625, total_revenue=117913.25)\n",
      "Row(country='Dominican Republic', item_type='Baby Food', sales_channel='Offline', total_profit=26265.640625, total_revenue=69946.71875)\n",
      "Row(country='United Kingdom', item_type='Cosmetics', sales_channel='Online', total_profit=180477.0625, total_revenue=453813.59375)\n",
      "Row(country='United States of America', item_type='Personal Care', sales_channel='Online', total_profit=106855.84375, total_revenue=348496.71875)\n",
      "Row(country='China', item_type='Office Supplies', sales_channel='Online', total_profit=731113.75, total_revenue=3771157.0)\n",
      "Row(country='Greece', item_type='Cereal', sales_channel='Online', total_profit=768429.6875, total_revenue=1784241.75)\n",
      "Row(country='Democratic Republic of the Congo', item_type='Cosmetics', sales_channel='Online', total_profit=515872.28125, total_revenue=1297172.375)\n",
      "Row(country='Switzerland', item_type='Office Supplies', sales_channel='Offline', total_profit=711923.75, total_revenue=3672173.25)\n",
      "Row(country='South Africa', item_type='Fruits', sales_channel='Offline', total_profit=3839.1298828125, total_revenue=14862.6904296875)\n",
      "Row(country='Kazakhstan', item_type='Snacks', sales_channel='Online', total_profit=74549.28125, total_revenue=206288.15625)\n",
      "Row(country='Papua New Guinea', item_type='Clothes', sales_channel='Offline', total_profit=667716.5, total_revenue=993573.75)\n",
      "Row(country='Papua New Guinea', item_type='Meat', sales_channel='Offline', total_profit=20592.0, total_revenue=151880.40625)\n",
      "Row(country='India', item_type='Snacks', sales_channel='Online', total_profit=294943.875, total_revenue=816150.4375)\n",
      "Row(country='Thailand', item_type='Fruits', sales_channel='Offline', total_profit=3747.550048828125, total_revenue=14508.150390625)\n",
      "Row(country='Thailand', item_type='Meat', sales_channel='Online', total_profit=251737.203125, total_revenue=1856737.875)\n",
      "Row(country='Haiti', item_type='Office Supplies', sales_channel='Online', total_profit=259065.0, total_revenue=1336282.875)\n",
      "Row(country='Estonia', item_type='Household', sales_channel='Offline', total_profit=1653322.5, total_revenue=6666661.5)\n",
      "Row(country='Kuwait', item_type='Household', sales_channel='Offline', total_profit=242960.1875, total_revenue=979683.8125)\n",
      "Row(country='Czech Republic', item_type='Cosmetics', sales_channel='Online', total_profit=1592127.625, total_revenue=4003440.5)\n",
      "Row(country='Dominica', item_type='Beverages', sales_channel='Online', total_profit=98673.65625, total_revenue=298982.4375)\n",
      "Row(country='Dominica', item_type='Household', sales_channel='Offline', total_profit=1167402.125, total_revenue=4707294.0)\n",
      "Row(country='Nepal', item_type='Meat', sales_channel='Online', total_profit=543171.1875, total_revenue=4006267.5)\n",
      "Row(country='Taiwan', item_type='Cereal', sales_channel='Online', total_profit=832480.25, total_revenue=1932962.875)\n",
      "Row(country='Taiwan', item_type='Fruits', sales_channel='Offline', total_profit=19361.939453125, total_revenue=74957.21875)\n",
      "Row(country='Antigua and Barbuda ', item_type='Office Supplies', sales_channel='Offline', total_profit=794996.25, total_revenue=4100669.25)\n",
      "Row(country='Algeria', item_type='Cosmetics', sales_channel='Online', total_profit=1681149.0, total_revenue=4227287.0)\n",
      "Row(country='Uganda', item_type='Cosmetics', sales_channel='Online', total_profit=1048610.0, total_revenue=2636753.25)\n",
      "Row(country='Uganda', item_type='Personal Care', sales_channel='Online', total_profit=11302.0595703125, total_revenue=36860.23046875)\n",
      "Row(country='France', item_type='Cosmetics', sales_channel='Online', total_profit=1001143.4375, total_revenue=2517397.5)\n",
      "Row(country='Finland', item_type='Household', sales_channel='Offline', total_profit=1350368.0, total_revenue=5445064.0)\n",
      "Row(country='Finland', item_type='Vegetables', sales_channel='Offline', total_profit=44064.73828125, total_revenue=107533.8828125)\n",
      "Row(country='Monaco', item_type='Beverages', sales_channel='Offline', total_profit=40856.94140625, total_revenue=123797.046875)\n",
      "Row(country='Indonesia', item_type='Household', sales_channel='Online', total_profit=103249.7890625, total_revenue=416332.21875)\n",
      "Row(country='Indonesia', item_type='Personal Care', sales_channel='Offline', total_profit=233208.359375, total_revenue=760579.375)\n",
      "Row(country='Netherlands', item_type='Fruits', sales_channel='Online', total_profit=23827.669921875, total_revenue=92245.7109375)\n",
      "Row(country='Burundi', item_type='Beverages', sales_channel='Online', total_profit=55326.78125, total_revenue=167640.84375)\n",
      "Row(country='South Korea', item_type='Meat', sales_channel='Offline', total_profit=408465.1875, total_revenue=3012716.5)\n",
      "Row(country='The Gambia', item_type='Fruits', sales_channel='Online', total_profit=20964.58984375, total_revenue=81161.671875)\n",
      "Row(country='Pakistan', item_type='Meat', sales_channel='Online', total_profit=570226.8125, total_revenue=4205821.5)\n",
      "Row(country='United Arab Emirates', item_type='Office Supplies', sales_channel='Online', total_profit=1212378.75, total_revenue=6253569.5)\n",
      "Row(country='Saint Lucia', item_type='Fruits', sales_channel='Offline', total_profit=8630.2099609375, total_revenue=33410.73046875)\n",
      "Row(country='Samoa ', item_type='Household', sales_channel='Online', total_profit=937534.625, total_revenue=3780403.5)\n",
      "Row(country='Rwanda', item_type='Fruits', sales_channel='Online', total_profit=14602.1904296875, total_revenue=56530.46875)\n",
      "Row(country='Tonga', item_type='Baby Food', sales_channel='Online', total_profit=530201.6875, total_revenue=1411953.625)\n",
      "Row(country='New Zealand', item_type='Beverages', sales_channel='Online', total_profit=90640.078125, total_revenue=274640.59375)\n",
      "Row(country='Solomon Islands', item_type='Household', sales_channel='Online', total_profit=700209.25, total_revenue=2823440.75)\n",
      "Row(country='Moldova ', item_type='Fruits', sales_channel='Online', total_profit=9003.759765625, total_revenue=34856.87890625)\n",
      "Row(country='Japan', item_type='Household', sales_channel='Offline', total_profit=1390971.875, total_revenue=5608790.0)\n",
      "Row(country='Belize', item_type='Personal Care', sales_channel='Online', total_profit=88536.9765625, total_revenue=288752.09375)\n",
      "Row(country='Montenegro', item_type='Clothes', sales_channel='Offline', total_profit=155472.484375, total_revenue=231345.765625)\n",
      "Row(country='Slovakia', item_type='Beverages', sales_channel='Offline', total_profit=62217.1796875, total_revenue=188518.84375)\n",
      "Row(country='The Bahamas', item_type='Fruits', sales_channel='Offline', total_profit=11423.400390625, total_revenue=44224.19921875)\n",
      "Row(country='The Bahamas', item_type='Personal Care', sales_channel='Online', total_profit=228973.21875, total_revenue=746767.0)\n",
      "Row(country='Albania', item_type='Baby Food', sales_channel='Offline', total_profit=756335.375, total_revenue=2014159.25)\n",
      "Row(country='Albania', item_type='Personal Care', sales_channel='Offline', total_profit=38667.578125, total_revenue=126109.390625)\n",
      "Row(country='Zimbabwe', item_type='Office Supplies', sales_channel='Offline', total_profit=1214903.75, total_revenue=6266594.0)\n",
      "Row(country='Ethiopia', item_type='Cosmetics', sales_channel='Online', total_profit=115101.9375, total_revenue=289426.40625)\n",
      "Row(country='Malawi', item_type='Meat', sales_channel='Offline', total_profit=291376.8125, total_revenue=2149107.75)\n",
      "Row(country='Italy', item_type='Cereal', sales_channel='Online', total_profit=904149.5625, total_revenue=2099374.25)\n",
      "Row(country='Italy', item_type='Office Supplies', sales_channel='Online', total_profit=367766.25, total_revenue=1896974.75)\n",
      "Row(country='East Timor', item_type='Cereal', sales_channel='Offline', total_profit=22944.810546875, total_revenue=53276.30078125)\n",
      "Row(country='Singapore', item_type='Snacks', sales_channel='Online', total_profit=423254.625, total_revenue=1171204.125)\n",
      "Row(country='Oman', item_type='Cosmetics', sales_channel='Online', total_profit=1380006.25, total_revenue=3470056.5)\n"
     ]
    }
   ],
   "source": [
    "print(\"\\nSilver Table\")\n",
    "silver_data = session.execute(\"SELECT * FROM silver_sales\").all()\n",
    "for row in silver_data:\n",
    "    print(row)\n"
   ]
  },
  {
   "cell_type": "code",
   "execution_count": 7,
   "metadata": {},
   "outputs": [
    {
     "name": "stdout",
     "output_type": "stream",
     "text": [
      "\n",
      "Bronze Table\n",
      "Row(order_id=294530856, country='Italy', item_type='Cereal', order_date='11/15/2011', order_priority='M', region='Europe', sales_channel='Online', ship_date='12/28/2011', total_cost=829138.8125, total_profit=627217.1875, total_revenue=1456356.0, unit_cost=117.11000061035156, unit_price=205.6999969482422, units_sold=7080)\n",
      "Row(order_id=274930989, country='Dominica', item_type='Household', order_date='11/19/2011', order_priority='C', region='Central America and the Caribbean', sales_channel='Offline', ship_date='12/13/2011', total_cost=3539891.75, total_profit=1167402.125, total_revenue=4707294.0, unit_cost=502.5400085449219, unit_price=668.27001953125, units_sold=7044)\n",
      "Row(order_id=498071897, country='Taiwan', item_type='Cereal', order_date='4/11/2010', order_priority='H', region='Asia', sales_channel='Online', ship_date='5/26/2010', total_cost=1100482.625, total_profit=832480.25, total_revenue=1932962.875, unit_cost=117.11000061035156, unit_price=205.6999969482422, units_sold=9397)\n",
      "Row(order_id=940980136, country='New Zealand', item_type='Beverages', order_date='10/11/2012', order_priority='M', region='Australia and Oceania', sales_channel='Online', ship_date='11/4/2012', total_cost=184000.515625, total_profit=90640.078125, total_revenue=274640.59375, unit_cost=31.790000915527344, unit_price=47.45000076293945, units_sold=5788)\n",
      "Row(order_id=324669444, country='France', item_type='Cosmetics', order_date='12/7/2015', order_priority='M', region='Europe', sales_channel='Online', ship_date='1/18/2016', total_cost=1516254.125, total_profit=1001143.4375, total_revenue=2517397.5, unit_cost=263.3299865722656, unit_price=437.20001220703125, units_sold=5758)\n",
      "Row(order_id=830410039, country='Switzerland', item_type='Office Supplies', order_date='7/29/2014', order_priority='C', region='Europe', sales_channel='Offline', ship_date='8/27/2014', total_cost=2960249.5, total_profit=711923.75, total_revenue=3672173.25, unit_cost=524.9600219726562, unit_price=651.2100219726562, units_sold=5639)\n",
      "Row(order_id=953361213, country='Zimbabwe', item_type='Office Supplies', order_date='3/28/2011', order_priority='C', region='Sub-Saharan Africa', sales_channel='Offline', ship_date='4/8/2011', total_cost=5051690.0, total_profit=1214903.75, total_revenue=6266594.0, unit_cost=524.9600219726562, unit_price=651.2100219726562, units_sold=9623)\n",
      "Row(order_id=425418365, country='United Arab Emirates', item_type='Office Supplies', order_date='6/23/2012', order_priority='M', region='Middle East and North Africa', sales_channel='Online', ship_date='7/6/2012', total_cost=5041191.0, total_profit=1212378.75, total_revenue=6253569.5, unit_cost=524.9600219726562, unit_price=651.2100219726562, units_sold=9603)\n",
      "Row(order_id=349235904, country='Mauritius ', item_type='Clothes', order_date='11/17/2012', order_priority='M', region='Sub-Saharan Africa', sales_channel='Offline', ship_date='12/2/2012', total_cost=197836.796875, total_profit=405388.8125, total_revenue=603225.625, unit_cost=35.84000015258789, unit_price=109.27999877929688, units_sold=5520)\n",
      "Row(order_id=246248090, country='The Bahamas', item_type='Personal Care', order_date='1/19/2011', order_priority='C', region='Central America and the Caribbean', sales_channel='Online', ship_date='2/21/2011', total_cost=517793.78125, total_profit=228973.21875, total_revenue=746767.0, unit_cost=56.66999816894531, unit_price=81.7300033569336, units_sold=9137)\n"
     ]
    }
   ],
   "source": [
    "print(\"\\nBronze Table\")\n",
    "bronze_data = session.execute(\"SELECT * FROM bronze_sales LIMIT 10\").all()\n",
    "for row in bronze_data:\n",
    "    print(row)\n"
   ]
  },
  {
   "cell_type": "code",
   "execution_count": 8,
   "metadata": {},
   "outputs": [
    {
     "name": "stdout",
     "output_type": "stream",
     "text": [
      "\n",
      "Gold Table: Top Selling Items\n",
      "Row(item_type='Household', total_units_sold=57640)\n",
      "Row(item_type='Office Supplies', total_units_sold=42814)\n",
      "Row(item_type='Vegetables', total_units_sold=7368)\n",
      "Row(item_type='Snacks', total_units_sold=14377)\n",
      "Row(item_type='Personal Care', total_units_sold=39045)\n",
      "Row(item_type='Meat', total_units_sold=50437)\n",
      "Row(item_type='Fruits', total_units_sold=65920)\n",
      "Row(item_type='Beverages', total_units_sold=45206)\n",
      "Row(item_type='Cereal', total_units_sold=45776)\n",
      "Row(item_type='Cosmetics', total_units_sold=65707)\n",
      "Row(item_type='Baby Food', total_units_sold=20372)\n",
      "Row(item_type='Clothes', total_units_sold=40148)\n"
     ]
    }
   ],
   "source": [
    "print(\"\\nGold Table: Top Selling Items\")\n",
    "gold_data2 = session.execute(\"SELECT * FROM gold_top_selling_items\").all()\n",
    "for row in gold_data2:\n",
    "    print(row)\n"
   ]
  },
  {
   "cell_type": "code",
   "execution_count": 9,
   "metadata": {},
   "outputs": [
    {
     "name": "stdout",
     "output_type": "stream",
     "text": [
      "\n",
      "Gold Table: Revenue by Region\n",
      "Row(region='Australia and Oceania', total_revenue=10711258.0)\n",
      "Row(region='Europe', total_revenue=34964748.0)\n",
      "Row(region='Middle East and North Africa', total_revenue=24765128.0)\n",
      "Row(region='Central America and the Caribbean', total_revenue=17570836.0)\n",
      "Row(region='Asia', total_revenue=28840812.0)\n",
      "Row(region='Sub-Saharan Africa', total_revenue=24225438.0)\n",
      "Row(region='North America', total_revenue=3611757.5)\n"
     ]
    }
   ],
   "source": [
    "print(\"\\nGold Table: Revenue by Region\")\n",
    "gold_data1 = session.execute(\"SELECT * FROM gold_revenue_by_region\").all()\n",
    "for row in gold_data1:\n",
    "    print(row)\n"
   ]
  },
  {
   "cell_type": "code",
   "execution_count": 10,
   "metadata": {},
   "outputs": [
    {
     "name": "stdout",
     "output_type": "stream",
     "text": [
      "\n",
      "Gold Table: High Priority Orders\n",
      "Row(order_id=498071897, order_priority='H', total_profit=832480.25)\n",
      "Row(order_id=368977391, order_priority='H', total_profit=1297765.625)\n",
      "Row(order_id=222504317, order_priority='H', total_profit=70844.6171875)\n",
      "Row(order_id=479969346, order_priority='H', total_profit=425981.5)\n",
      "Row(order_id=835696351, order_priority='H', total_profit=1653322.5)\n",
      "Row(order_id=371502530, order_priority='H', total_profit=73742.9375)\n",
      "Row(order_id=146634709, order_priority='H', total_profit=126918.640625)\n",
      "Row(order_id=179137074, order_priority='H', total_profit=543171.1875)\n",
      "Row(order_id=529276502, order_priority='H', total_profit=55326.78125)\n",
      "Row(order_id=887124383, order_priority='H', total_profit=768429.6875)\n",
      "Row(order_id=824714744, order_priority='H', total_profit=26265.640625)\n",
      "Row(order_id=797385394, order_priority='H', total_profit=367766.25)\n",
      "Row(order_id=358570849, order_priority='H', total_profit=1380006.25)\n",
      "Row(order_id=265081918, order_priority='H', total_profit=38915.1015625)\n",
      "Row(order_id=315402734, order_priority='H', total_profit=88536.9765625)\n",
      "Row(order_id=156530129, order_priority='H', total_profit=23133.58984375)\n",
      "Row(order_id=757257401, order_priority='H', total_profit=1350368.0)\n",
      "Row(order_id=726137769, order_priority='H', total_profit=1592127.625)\n",
      "Row(order_id=450544869, order_priority='H', total_profit=291376.8125)\n",
      "Row(order_id=190777862, order_priority='H', total_profit=106855.84375)\n",
      "Row(order_id=752525556, order_priority='H', total_profit=756335.375)\n",
      "Row(order_id=880811536, order_priority='H', total_profit=41273.28125)\n"
     ]
    }
   ],
   "source": [
    "print(\"\\nGold Table: High Priority Orders\")\n",
    "gold_data3 = session.execute(\"SELECT * FROM gold_high_priority_orders\").all()\n",
    "for row in gold_data3:\n",
    "    print(row)\n"
   ]
  }
 ],
 "metadata": {
  "kernelspec": {
   "display_name": ".venv",
   "language": "python",
   "name": "python3"
  },
  "language_info": {
   "codemirror_mode": {
    "name": "ipython",
    "version": 3
   },
   "file_extension": ".py",
   "mimetype": "text/x-python",
   "name": "python",
   "nbconvert_exporter": "python",
   "pygments_lexer": "ipython3",
   "version": "3.11.6"
  }
 },
 "nbformat": 4,
 "nbformat_minor": 2
}
